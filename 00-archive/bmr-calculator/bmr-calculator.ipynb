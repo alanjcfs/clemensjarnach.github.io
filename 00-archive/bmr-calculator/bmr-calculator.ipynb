{
 "cells": [
  {
   "cell_type": "code",
   "execution_count": 2,
   "metadata": {},
   "outputs": [],
   "source": [
    "# BMR-Men function \n",
    "def calculate_bmr_men(weight_kg, height_cm, age_years):\n",
    "    bmrMen = 88.362 + (13.397 * weight_kg) + (4.799 * height_cm) - (5.677 *age_years)\n",
    "    return(bmrMen)\n",
    "\n",
    "# BMR-Women function \n",
    "def calculate_bmr_women(weight_kg, height_cm, age_years):\n",
    "    bmrWomen = 447.593 + (9.247 * weight_kg) + (3.098 * height_cm) - (4.330 *age_years)\n",
    "    return(bmrWomen)\n",
    "\n"
   ]
  },
  {
   "cell_type": "code",
   "execution_count": 3,
   "metadata": {},
   "outputs": [
    {
     "name": "stdout",
     "output_type": "stream",
     "text": [
      "Your BMR for Men equals: 1972.241\n"
     ]
    }
   ],
   "source": [
    "bmrMen= calculate_bmr_men(84, 190, 27)\n",
    "print(\"Your BMR for Men equals:\",bmrMen)"
   ]
  },
  {
   "cell_type": "markdown",
   "metadata": {},
   "source": [
    "Lets make this code a bit more elegent."
   ]
  },
  {
   "cell_type": "code",
   "execution_count": 23,
   "metadata": {},
   "outputs": [],
   "source": [
    "#Ask for variable input\n",
    "sex = input(\"Enter your biological sex (male, female): \")\n",
    "weight = float(input(\"Enter your weight in kg: \"))\n",
    "height = float(input(\"Enter your height in cm: \"))\n",
    "age = int(input(\"Enter your age in years: \"))\n",
    "activity_level = input(\"Enter your activity level (Sedentary, Lightly active, Moderately active, Very active, Extra active): \")\n"
   ]
  },
  {
   "cell_type": "code",
   "execution_count": 37,
   "metadata": {},
   "outputs": [],
   "source": [
    "def calculate_bmr(sex, weight_kg, height_cm, age_years):\n",
    "    if sex == \"male\":\n",
    "        bmr = 88.362 + (13.397 * weight) + (4.799 * height) - (5.677 * age)\n",
    "    elif sex == \"female\":\n",
    "        bmr = 447.593 + (9.247 * weight) + (3.098 * height) - (4.330 * age)\n",
    "    else:\n",
    "        print(\"Invalid sex value\")\n",
    "        return\n",
    "    return(bmr)\n",
    "   \n",
    "\n",
    "\n",
    "def calculate_tdee(bmr, activity_level):\n",
    "    if activity_level == \"Sedentary\":\n",
    "        tdee = bmr * 1.2\n",
    "    elif activity_level == \"Lightly active\":\n",
    "        tdee = bmr * 1.375\n",
    "    elif activity_level == \"Moderately active\":\n",
    "        tdee = bmr * 1.55\n",
    "    elif activity_level == \"Very active\":\n",
    "        tdee = bmr * 1.725\n",
    "    elif activity_level == \"Extra active\":\n",
    "        tdee = bmr * 1.9\n",
    "    else:\n",
    "        print(\"Invalid activity level\")\n",
    "        return\n",
    "    return(tdee)\n"
   ]
  },
  {
   "cell_type": "code",
   "execution_count": 35,
   "metadata": {},
   "outputs": [
    {
     "name": "stdout",
     "output_type": "stream",
     "text": [
      "Your BMR equals:  1610.579\n"
     ]
    }
   ],
   "source": [
    "bmr = calculate_bmr(sex, weight, height, age)\n",
    "print(\"Your BMR equals: \", bmr)\n"
   ]
  },
  {
   "cell_type": "code",
   "execution_count": 39,
   "metadata": {},
   "outputs": [
    {
     "name": "stdout",
     "output_type": "stream",
     "text": [
      "Your TDEE is:  1932.6947999999998\n"
     ]
    }
   ],
   "source": [
    "tdee = calculate_tdee(bmr, activity_level)\n",
    "print(\"Your TDEE is: \", tdee)"
   ]
  }
 ],
 "metadata": {
  "kernelspec": {
   "display_name": "base",
   "language": "python",
   "name": "python3"
  },
  "language_info": {
   "codemirror_mode": {
    "name": "ipython",
    "version": 3
   },
   "file_extension": ".py",
   "mimetype": "text/x-python",
   "name": "python",
   "nbconvert_exporter": "python",
   "pygments_lexer": "ipython3",
   "version": "3.9.7"
  },
  "orig_nbformat": 4,
  "vscode": {
   "interpreter": {
    "hash": "e092955e1a1b1a2f7a8b51520666650835e009b20f9c23ceb523ee5a48e66295"
   }
  }
 },
 "nbformat": 4,
 "nbformat_minor": 2
}
